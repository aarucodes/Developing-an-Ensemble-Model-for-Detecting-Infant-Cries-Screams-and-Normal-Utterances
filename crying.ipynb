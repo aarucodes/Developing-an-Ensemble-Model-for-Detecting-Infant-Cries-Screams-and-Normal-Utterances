{
 "cells": [
  {
   "cell_type": "code",
   "execution_count": 17,
   "id": "3f6d1859-69d3-42c5-b9c4-e1273c5fbcd5",
   "metadata": {},
   "outputs": [],
   "source": [
    "import os\n",
    "import numpy as np\n",
    "import librosa\n",
    "import soundfile as sf\n",
    "import tensorflow as tf\n",
    "import tensorflow_hub as hub\n",
    "from transformers import Wav2Vec2ForSequenceClassification, Wav2Vec2FeatureExtractor\n",
    "import torch\n",
    "import pandas as pd\n",
    "import matplotlib.pyplot as plt\n",
    "from sklearn.metrics import classification_report, confusion_matrix\n",
    "from sklearn.model_selection import train_test_split"
   ]
  },
  {
   "cell_type": "code",
   "execution_count": 18,
   "id": "a109fafc-c546-45cb-b47f-ae316dfeeb81",
   "metadata": {},
   "outputs": [],
   "source": [
    "CLASS_NAMES = ['cry', 'scream', 'norm']\n",
    "SAMPLE_RATE = 16000\n",
    "data_dir = 'C:/Users/AarushiGarg/Desktop/crying/data'"
   ]
  },
  {
   "cell_type": "code",
   "execution_count": 19,
   "id": "d3d181cb-09aa-4b96-9782-52ba37af0a7d",
   "metadata": {},
   "outputs": [],
   "source": [
    "def load_audio_files():\n",
    "    data = []\n",
    "    labels = []\n",
    "    for label in CLASS_NAMES:\n",
    "        folder = os.path.join(data_dir, label)\n",
    "        for file in os.listdir(folder):\n",
    "            if file.endswith('.wav'):\n",
    "                path = os.path.join(folder, file)\n",
    "                signal, sr = librosa.load(path, sr=SAMPLE_RATE)\n",
    "                data.append(signal)\n",
    "                labels.append(CLASS_NAMES.index(label))\n",
    "    return np.array(data, dtype=object), np.array(labels)\n"
   ]
  },
  {
   "cell_type": "code",
   "execution_count": 20,
   "id": "eabad732-9126-4247-b07c-dc62b7abd92f",
   "metadata": {},
   "outputs": [],
   "source": [
    "X, y = load_audio_files()\n",
    "X_train, X_test, y_train, y_test = train_test_split(X, y, test_size=0.2, random_state=42)"
   ]
  },
  {
   "cell_type": "code",
   "execution_count": 21,
   "id": "7a98cb8f-53bf-441c-ae1f-c66ac109de81",
   "metadata": {},
   "outputs": [],
   "source": [
    "yamnet_model_handle = 'https://tfhub.dev/google/yamnet/1'\n",
    "yamnet_model = hub.load(yamnet_model_handle)"
   ]
  },
  {
   "cell_type": "code",
   "execution_count": 22,
   "id": "db0fd80c-04fd-4434-b9a4-630f2cb86316",
   "metadata": {},
   "outputs": [],
   "source": [
    "def predict_yamnet(audio):\n",
    "    waveform = tf.convert_to_tensor(audio, dtype=tf.float32)\n",
    "    scores, embeddings, spectrogram = yamnet_model(waveform)\n",
    "    return tf.reduce_mean(scores, axis=0).numpy()"
   ]
  },
  {
   "cell_type": "code",
   "execution_count": 23,
   "id": "4bef3a3c-b82c-4f8a-9071-f24708270996",
   "metadata": {},
   "outputs": [
    {
     "name": "stderr",
     "output_type": "stream",
     "text": [
      "C:\\Users\\AarushiGarg\\Desktop\\crying\\infant_audio_env\\lib\\site-packages\\transformers\\configuration_utils.py:311: UserWarning: Passing `gradient_checkpointing` to a config initialization is deprecated and will be removed in v5 Transformers. Using `model.gradient_checkpointing_enable()` instead, or if you are using the `Trainer` API, pass `gradient_checkpointing=True` in your `TrainingArguments`.\n",
      "  warnings.warn(\n"
     ]
    }
   ],
   "source": [
    "feature_extractor = Wav2Vec2FeatureExtractor.from_pretrained(\"facebook/wav2vec2-base-960h\")\n",
    "wav2vec2_model = Wav2Vec2ForSequenceClassification.from_pretrained(\"superb/wav2vec2-base-superb-ks\")"
   ]
  },
  {
   "cell_type": "code",
   "execution_count": 26,
   "id": "1a58347f-4924-4cb6-88a7-d42ecae4362b",
   "metadata": {},
   "outputs": [],
   "source": [
    "def predict_wav2vec(audio):\n",
    "    input_values = feature_extractor(audio, sampling_rate=SAMPLE_RATE, return_tensors=\"pt\").input_values\n",
    "    with torch.no_grad():\n",
    "        logits = wav2vec2_model(input_values).logits\n",
    "    return torch.nn.functional.softmax(logits, dim=-1).numpy()[0]"
   ]
  },
  {
   "cell_type": "code",
   "execution_count": 27,
   "id": "7ce57394-02af-4160-9dc6-e30e799db395",
   "metadata": {},
   "outputs": [],
   "source": [
    "def ensemble_predict(audio):\n",
    "    yamnet_probs = predict_yamnet(audio)\n",
    "    wav2vec_probs = predict_wav2vec(audio)\n",
    "    combined_probs = (yamnet_probs[:3] + wav2vec_probs[:3]) / 2  # Only top 3 for simplicity\n",
    "    return np.argmax(combined_probs)"
   ]
  },
  {
   "cell_type": "code",
   "execution_count": 28,
   "id": "de3e85aa-33ee-44dd-abbe-5c05b76b3c47",
   "metadata": {},
   "outputs": [
    {
     "name": "stdout",
     "output_type": "stream",
     "text": [
      "              precision    recall  f1-score   support\n",
      "\n",
      "         cry       0.35      0.70      0.47        10\n",
      "      scream       0.00      0.00      0.00        17\n",
      "        norm       0.42      0.62      0.50        13\n",
      "\n",
      "    accuracy                           0.38        40\n",
      "   macro avg       0.26      0.44      0.32        40\n",
      "weighted avg       0.22      0.38      0.28        40\n",
      "\n",
      "[[7 0 3]\n",
      " [9 0 8]\n",
      " [4 1 8]]\n"
     ]
    }
   ],
   "source": [
    "predictions = [ensemble_predict(x) for x in X_test]\n",
    "print(classification_report(y_test, predictions, target_names=CLASS_NAMES))\n",
    "print(confusion_matrix(y_test, predictions))"
   ]
  },
  {
   "cell_type": "code",
   "execution_count": 29,
   "id": "47ea931d-c828-4352-a61e-86531d6518c6",
   "metadata": {},
   "outputs": [
    {
     "data": {
      "image/png": "[encoded data removed]",
      "text/plain": [
       "<Figure size 800x600 with 2 Axes>"
      ]
     },
     "metadata": {},
     "output_type": "display_data"
    }
   ],
   "source": [
    "plt.figure(figsize=(8, 6))\n",
    "plt.title(\"Confusion Matrix\")\n",
    "plt.imshow(confusion_matrix(y_test, predictions), cmap='Blues', interpolation='nearest')\n",
    "plt.colorbar()\n",
    "plt.xticks(ticks=range(len(CLASS_NAMES)), labels=CLASS_NAMES)\n",
    "plt.yticks(ticks=range(len(CLASS_NAMES)), labels=CLASS_NAMES)\n",
    "plt.xlabel(\"Predicted\")\n",
    "plt.ylabel(\"True\")\n",
    "plt.show()"
   ]
  },
  {
   "cell_type": "code",
   "execution_count": null,
   "id": "261e8537-b00c-45d6-b84a-73a5a62114b3",
   "metadata": {},
   "outputs": [],
   "source": []
  },
  {
   "cell_type": "code",
   "execution_count": 30,
   "id": "bbcfc11f-1132-4b3c-baec-dc3e4b400399",
   "metadata": {},
   "outputs": [],
   "source": [
    "import os\n",
    "from sklearn.utils import class_weight\n",
    "import numpy as np\n",
    "\n",
    "dataset_path = 'C:/Users/AarushiGarg/Desktop/crying/data'\n",
    "\n",
    "y_train = []\n",
    "for label in os.listdir(dataset_path):\n",
    "    label_path = os.path.join(dataset_path, label)\n",
    "    if os.path.isdir(label_path):\n",
    "        files = os.listdir(label_path)\n",
    "        y_train.extend([label] * len(files))  \n",
    "\n",
    "y_train = np.array(y_train)"
   ]
  },
  {
   "cell_type": "code",
   "execution_count": 31,
   "id": "df4f5945-7463-4a3e-96d5-d4d64d505177",
   "metadata": {},
   "outputs": [
    {
     "name": "stdout",
     "output_type": "stream",
     "text": [
      "Class distribution: {np.str_('cry'): 63, np.str_('norm'): 68, np.str_('scream'): 72}\n",
      "Class weights: {np.str_('cry'): np.float64(1.0740740740740742), np.str_('norm'): np.float64(0.9950980392156863), np.str_('scream'): np.float64(0.9398148148148148)}\n"
     ]
    }
   ],
   "source": [
    "classes = np.unique(y_train)\n",
    "weights = class_weight.compute_class_weight(class_weight='balanced', classes=classes, y=y_train)\n",
    "class_weights = dict(zip(classes, weights))\n",
    "\n",
    "print(\"Class distribution:\", dict(zip(classes, [list(y_train).count(c) for c in classes])))\n",
    "print(\"Class weights:\", class_weights)"
   ]
  },
  {
   "cell_type": "code",
   "execution_count": null,
   "id": "62e83776-8b9c-4eb1-8dde-5d840fe8237b",
   "metadata": {},
   "outputs": [],
   "source": []
  }
 ],
 "metadata": {
  "kernelspec": {
   "display_name": "Infant Audio Env",
   "language": "python",
   "name": "infant_audio_env"
  },
  "language_info": {
   "codemirror_mode": {
    "name": "ipython",
    "version": 3
   },
   "file_extension": ".py",
   "mimetype": "text/x-python",
   "name": "python",
   "nbconvert_exporter": "python",
   "pygments_lexer": "ipython3",
   "version": "3.9.13"
  }
 },
 "nbformat": 4,
 "nbformat_minor": 5
}
